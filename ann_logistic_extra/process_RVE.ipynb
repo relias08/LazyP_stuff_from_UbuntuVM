{
 "cells": [
  {
   "cell_type": "code",
   "execution_count": 16,
   "metadata": {},
   "outputs": [],
   "source": [
    "# from __future__ import print_function, division\n",
    "# from builtins import range\n",
    "# Note: you may need to update your version of future\n",
    "# sudo pip install -U future\n",
    "\n",
    "\n",
    "import numpy as np\n",
    "import pandas as pd\n",
    "import os\n",
    "\n",
    "# so scripts from other folders can import this file\n",
    "# dir_path = os.path.abspath(os.path.dirname(os.path.realpath(__file__)))\n",
    "\n",
    "dir_path = os.path.abspath(os.path.dirname(os.path.realpath(\"/home/rve2/Desktop/LazyP_machine_learning_examples-master/ann_logistic_extra/process.py\")))"
   ]
  },
  {
   "cell_type": "code",
   "execution_count": 17,
   "metadata": {},
   "outputs": [
    {
     "data": {
      "text/plain": [
       "'/home/rve2/Desktop/LazyP_machine_learning_examples-master/ann_logistic_extra'"
      ]
     },
     "execution_count": 17,
     "metadata": {},
     "output_type": "execute_result"
    }
   ],
   "source": [
    "dir_path"
   ]
  },
  {
   "cell_type": "code",
   "execution_count": 8,
   "metadata": {
    "collapsed": true
   },
   "outputs": [],
   "source": [
    "# normalize numerical columns\n",
    "# one-hot categorical columns\n",
    "\n",
    "def get_data():\n",
    "  df = pd.read_csv(dir_path + '/ecommerce_data.csv')\n",
    "\n",
    "  # just in case you're curious what's in it\n",
    "  # df.head()\n",
    "\n",
    "  # easier to work with numpy array\n",
    "  data = df.values\n",
    "\n",
    "  # shuffle it\n",
    "  np.random.shuffle(data)\n",
    "\n",
    "  # split features and labels\n",
    "  X = data[:,:-1]\n",
    "  Y = data[:,-1].astype(np.int32)\n",
    "\n",
    "  # one-hot encode the categorical data\n",
    "  # create a new matrix X2 with the correct number of columns\n",
    "  N, D = X.shape\n",
    "  X2 = np.zeros((N, D+3))\n",
    "  X2[:,0:(D-1)] = X[:,0:(D-1)] # non-categorical\n",
    "\n",
    "  # one-hot\n",
    "  for n in range(N):\n",
    "      t = int(X[n,D-1])\n",
    "      X2[n,t+D-1] = 1\n",
    "\n",
    "  # method 2\n",
    "  # Z = np.zeros((N, 4))\n",
    "  # Z[np.arange(N), X[:,D-1].astype(np.int32)] = 1\n",
    "  # # assign: X2[:,-4:] = Z\n",
    "  # assert(np.abs(X2[:,-4:] - Z).sum() < 1e-10)\n",
    "\n",
    "  # assign X2 back to X, since we don't need original anymore\n",
    "  X = X2\n",
    "\n",
    "  # split train and test\n",
    "  Xtrain = X[:-100]\n",
    "  Ytrain = Y[:-100]\n",
    "  Xtest = X[-100:]\n",
    "  Ytest = Y[-100:]\n",
    "\n",
    "  # normalize columns 1 and 2\n",
    "  for i in (1, 2):\n",
    "    m = Xtrain[:,i].mean()\n",
    "    s = Xtrain[:,i].std()\n",
    "    Xtrain[:,i] = (Xtrain[:,i] - m) / s  # Note that we are using m & s from train !!!\n",
    "    Xtest[:,i] = (Xtest[:,i] - m) / s\n",
    "\n",
    "  return Xtrain, Ytrain, Xtest, Ytest"
   ]
  },
  {
   "cell_type": "code",
   "execution_count": 9,
   "metadata": {
    "collapsed": true
   },
   "outputs": [],
   "source": [
    "def get_binary_data():\n",
    "  # return only the data from the first 2 classes\n",
    "  Xtrain, Ytrain, Xtest, Ytest = get_data()\n",
    "  X2train = Xtrain[Ytrain <= 1]\n",
    "  Y2train = Ytrain[Ytrain <= 1]\n",
    "  X2test = Xtest[Ytest <= 1]\n",
    "  Y2test = Ytest[Ytest <= 1]\n",
    "  return X2train, Y2train, X2test, Y2test"
   ]
  },
  {
   "cell_type": "markdown",
   "metadata": {},
   "source": [
    "############ end of code ############"
   ]
  },
  {
   "cell_type": "code",
   "execution_count": 11,
   "metadata": {
    "collapsed": true
   },
   "outputs": [],
   "source": [
    "# testing"
   ]
  },
  {
   "cell_type": "code",
   "execution_count": 28,
   "metadata": {
    "collapsed": true
   },
   "outputs": [],
   "source": [
    "# normalize numerical columns\n",
    "# one-hot categorical columns\n",
    "\n",
    "df = pd.read_csv(dir_path + '/ecommerce_data.csv')\n",
    "\n",
    "# just in case you're curious what's in it\n",
    "# df.head()\n",
    "\n",
    "# easier to work with numpy array\n",
    "data = df.values\n",
    "\n",
    "# shuffle it\n",
    "np.random.shuffle(data)\n",
    "\n",
    "# split features and labels\n",
    "X = data[:,:-1]\n",
    "Y = data[:,-1].astype(np.int32)"
   ]
  },
  {
   "cell_type": "code",
   "execution_count": 31,
   "metadata": {},
   "outputs": [
    {
     "data": {
      "text/plain": [
       "array([[0.        , 2.        , 1.2790592 , 0.        , 2.        ,\n",
       "        1.        ],\n",
       "       [1.        , 0.        , 1.45612014, 0.        , 1.        ,\n",
       "        0.        ],\n",
       "       [0.        , 0.        , 0.5078576 , 0.        , 0.        ,\n",
       "        0.        ]])"
      ]
     },
     "execution_count": 31,
     "metadata": {},
     "output_type": "execute_result"
    }
   ],
   "source": [
    "data[:3]"
   ]
  },
  {
   "cell_type": "code",
   "execution_count": 29,
   "metadata": {},
   "outputs": [
    {
     "data": {
      "text/plain": [
       "array([[0.        , 2.        , 1.2790592 , 0.        , 2.        ],\n",
       "       [1.        , 0.        , 1.45612014, 0.        , 1.        ],\n",
       "       [0.        , 0.        , 0.5078576 , 0.        , 0.        ]])"
      ]
     },
     "execution_count": 29,
     "metadata": {},
     "output_type": "execute_result"
    }
   ],
   "source": [
    "X[:3]"
   ]
  },
  {
   "cell_type": "code",
   "execution_count": 39,
   "metadata": {},
   "outputs": [
    {
     "data": {
      "text/plain": [
       "array([[0., 0., 0., 0., 0., 0., 0., 0.],\n",
       "       [0., 0., 0., 0., 0., 0., 0., 0.],\n",
       "       [0., 0., 0., 0., 0., 0., 0., 0.]])"
      ]
     },
     "execution_count": 39,
     "metadata": {},
     "output_type": "execute_result"
    }
   ],
   "source": [
    "# one-hot encode the categorical data\n",
    "# create a new matrix X2 with the correct number of columns\n",
    "N, D = X.shape\n",
    "X2 = np.zeros((N, D+3))\n",
    "X2[:3]"
   ]
  },
  {
   "cell_type": "code",
   "execution_count": 40,
   "metadata": {
    "collapsed": true
   },
   "outputs": [],
   "source": [
    "X2[:,0:(D-1)] = X[:,0:(D-1)] # non-categorical"
   ]
  },
  {
   "cell_type": "code",
   "execution_count": 41,
   "metadata": {
    "collapsed": true
   },
   "outputs": [],
   "source": [
    "# one-hot\n",
    "for n in range(N):\n",
    "  t = int(X[n,D-1])    # just getting the value in the last column of X, row by row\n",
    "  X2[n,D-1+t] = 1"
   ]
  },
  {
   "cell_type": "code",
   "execution_count": 46,
   "metadata": {},
   "outputs": [
    {
     "data": {
      "text/plain": [
       "2.0"
      ]
     },
     "execution_count": 46,
     "metadata": {},
     "output_type": "execute_result"
    }
   ],
   "source": [
    "X[0, 4]"
   ]
  },
  {
   "cell_type": "code",
   "execution_count": 45,
   "metadata": {},
   "outputs": [
    {
     "data": {
      "text/plain": [
       "array([[0., 0., 1., 0.],\n",
       "       [0., 1., 0., 0.],\n",
       "       [1., 0., 0., 0.]])"
      ]
     },
     "execution_count": 45,
     "metadata": {},
     "output_type": "execute_result"
    }
   ],
   "source": [
    "X2[:3, D-1:]"
   ]
  },
  {
   "cell_type": "code",
   "execution_count": 47,
   "metadata": {},
   "outputs": [
    {
     "data": {
      "text/plain": [
       "array([[0., 0., 0., 0.],\n",
       "       [0., 0., 0., 0.],\n",
       "       [0., 0., 0., 0.]])"
      ]
     },
     "execution_count": 47,
     "metadata": {},
     "output_type": "execute_result"
    }
   ],
   "source": [
    "# method 2\n",
    "Z = np.zeros((N, 4))\n",
    "Z[:3]"
   ]
  },
  {
   "cell_type": "code",
   "execution_count": 50,
   "metadata": {
    "collapsed": true
   },
   "outputs": [],
   "source": [
    "Z[np.arange(N), X[:,D-1].astype(np.int32)] = 1\n",
    "# assign: X2[:,-4:] = Z\n"
   ]
  },
  {
   "cell_type": "code",
   "execution_count": 63,
   "metadata": {},
   "outputs": [],
   "source": [
    "assert(np.abs(X2[:,-4:] - Z).sum() == 0)"
   ]
  },
  {
   "cell_type": "code",
   "execution_count": 53,
   "metadata": {},
   "outputs": [
    {
     "data": {
      "text/plain": [
       "array([0., 0., 0., 0.])"
      ]
     },
     "execution_count": 53,
     "metadata": {},
     "output_type": "execute_result"
    }
   ],
   "source": [
    "np.abs(X2[:,-4:] - Z).sum(axis = 0)"
   ]
  },
  {
   "cell_type": "code",
   "execution_count": 56,
   "metadata": {},
   "outputs": [
    {
     "data": {
      "text/plain": [
       "(500, 4)"
      ]
     },
     "execution_count": 56,
     "metadata": {},
     "output_type": "execute_result"
    }
   ],
   "source": [
    "np.abs(X2[:,-4:] - Z).shape"
   ]
  },
  {
   "cell_type": "code",
   "execution_count": 57,
   "metadata": {},
   "outputs": [
    {
     "data": {
      "text/plain": [
       "array([[0, 1, 2],\n",
       "       [3, 4, 5],\n",
       "       [6, 7, 8]])"
      ]
     },
     "execution_count": 57,
     "metadata": {},
     "output_type": "execute_result"
    }
   ],
   "source": [
    "np.arange(9).reshape(3,3)"
   ]
  },
  {
   "cell_type": "code",
   "execution_count": 60,
   "metadata": {},
   "outputs": [
    {
     "data": {
      "text/plain": [
       "array([ 9, 12, 15])"
      ]
     },
     "execution_count": 60,
     "metadata": {},
     "output_type": "execute_result"
    }
   ],
   "source": [
    "np.arange(9).reshape(3,3).sum(axis = 0)"
   ]
  },
  {
   "cell_type": "code",
   "execution_count": 48,
   "metadata": {},
   "outputs": [
    {
     "data": {
      "text/plain": [
       "array([  0,   1,   2,   3,   4,   5,   6,   7,   8,   9,  10,  11,  12,\n",
       "        13,  14,  15,  16,  17,  18,  19,  20,  21,  22,  23,  24,  25,\n",
       "        26,  27,  28,  29,  30,  31,  32,  33,  34,  35,  36,  37,  38,\n",
       "        39,  40,  41,  42,  43,  44,  45,  46,  47,  48,  49,  50,  51,\n",
       "        52,  53,  54,  55,  56,  57,  58,  59,  60,  61,  62,  63,  64,\n",
       "        65,  66,  67,  68,  69,  70,  71,  72,  73,  74,  75,  76,  77,\n",
       "        78,  79,  80,  81,  82,  83,  84,  85,  86,  87,  88,  89,  90,\n",
       "        91,  92,  93,  94,  95,  96,  97,  98,  99, 100, 101, 102, 103,\n",
       "       104, 105, 106, 107, 108, 109, 110, 111, 112, 113, 114, 115, 116,\n",
       "       117, 118, 119, 120, 121, 122, 123, 124, 125, 126, 127, 128, 129,\n",
       "       130, 131, 132, 133, 134, 135, 136, 137, 138, 139, 140, 141, 142,\n",
       "       143, 144, 145, 146, 147, 148, 149, 150, 151, 152, 153, 154, 155,\n",
       "       156, 157, 158, 159, 160, 161, 162, 163, 164, 165, 166, 167, 168,\n",
       "       169, 170, 171, 172, 173, 174, 175, 176, 177, 178, 179, 180, 181,\n",
       "       182, 183, 184, 185, 186, 187, 188, 189, 190, 191, 192, 193, 194,\n",
       "       195, 196, 197, 198, 199, 200, 201, 202, 203, 204, 205, 206, 207,\n",
       "       208, 209, 210, 211, 212, 213, 214, 215, 216, 217, 218, 219, 220,\n",
       "       221, 222, 223, 224, 225, 226, 227, 228, 229, 230, 231, 232, 233,\n",
       "       234, 235, 236, 237, 238, 239, 240, 241, 242, 243, 244, 245, 246,\n",
       "       247, 248, 249, 250, 251, 252, 253, 254, 255, 256, 257, 258, 259,\n",
       "       260, 261, 262, 263, 264, 265, 266, 267, 268, 269, 270, 271, 272,\n",
       "       273, 274, 275, 276, 277, 278, 279, 280, 281, 282, 283, 284, 285,\n",
       "       286, 287, 288, 289, 290, 291, 292, 293, 294, 295, 296, 297, 298,\n",
       "       299, 300, 301, 302, 303, 304, 305, 306, 307, 308, 309, 310, 311,\n",
       "       312, 313, 314, 315, 316, 317, 318, 319, 320, 321, 322, 323, 324,\n",
       "       325, 326, 327, 328, 329, 330, 331, 332, 333, 334, 335, 336, 337,\n",
       "       338, 339, 340, 341, 342, 343, 344, 345, 346, 347, 348, 349, 350,\n",
       "       351, 352, 353, 354, 355, 356, 357, 358, 359, 360, 361, 362, 363,\n",
       "       364, 365, 366, 367, 368, 369, 370, 371, 372, 373, 374, 375, 376,\n",
       "       377, 378, 379, 380, 381, 382, 383, 384, 385, 386, 387, 388, 389,\n",
       "       390, 391, 392, 393, 394, 395, 396, 397, 398, 399, 400, 401, 402,\n",
       "       403, 404, 405, 406, 407, 408, 409, 410, 411, 412, 413, 414, 415,\n",
       "       416, 417, 418, 419, 420, 421, 422, 423, 424, 425, 426, 427, 428,\n",
       "       429, 430, 431, 432, 433, 434, 435, 436, 437, 438, 439, 440, 441,\n",
       "       442, 443, 444, 445, 446, 447, 448, 449, 450, 451, 452, 453, 454,\n",
       "       455, 456, 457, 458, 459, 460, 461, 462, 463, 464, 465, 466, 467,\n",
       "       468, 469, 470, 471, 472, 473, 474, 475, 476, 477, 478, 479, 480,\n",
       "       481, 482, 483, 484, 485, 486, 487, 488, 489, 490, 491, 492, 493,\n",
       "       494, 495, 496, 497, 498, 499])"
      ]
     },
     "execution_count": 48,
     "metadata": {},
     "output_type": "execute_result"
    }
   ],
   "source": [
    "np.arange(N)"
   ]
  },
  {
   "cell_type": "code",
   "execution_count": 49,
   "metadata": {},
   "outputs": [
    {
     "data": {
      "text/plain": [
       "array([2, 1, 0, 3, 2, 1, 3, 0, 1, 3, 3, 1, 0, 3, 1, 3, 1, 1, 3, 2, 2, 1,\n",
       "       0, 0, 0, 1, 3, 3, 3, 0, 3, 2, 1, 1, 0, 1, 1, 0, 2, 2, 0, 3, 2, 0,\n",
       "       2, 2, 1, 3, 2, 1, 3, 2, 3, 0, 2, 2, 2, 1, 3, 3, 1, 0, 0, 1, 2, 1,\n",
       "       3, 2, 1, 3, 0, 3, 1, 1, 2, 2, 1, 2, 3, 2, 3, 1, 1, 3, 0, 3, 3, 2,\n",
       "       1, 2, 2, 2, 2, 3, 2, 3, 3, 2, 1, 0, 1, 2, 2, 1, 3, 0, 3, 3, 2, 3,\n",
       "       0, 2, 3, 3, 1, 0, 2, 1, 2, 0, 0, 3, 0, 0, 3, 2, 2, 2, 3, 1, 2, 3,\n",
       "       3, 3, 3, 0, 0, 0, 3, 0, 3, 0, 1, 0, 3, 3, 1, 0, 1, 0, 0, 3, 0, 1,\n",
       "       0, 1, 1, 3, 3, 0, 0, 2, 0, 3, 2, 2, 2, 0, 1, 2, 1, 0, 0, 0, 0, 0,\n",
       "       1, 3, 3, 1, 2, 3, 2, 2, 2, 3, 1, 1, 2, 1, 1, 0, 2, 2, 0, 3, 0, 3,\n",
       "       2, 1, 2, 0, 3, 1, 2, 2, 2, 1, 3, 3, 1, 0, 1, 2, 2, 1, 3, 0, 0, 1,\n",
       "       0, 3, 2, 3, 1, 1, 3, 1, 3, 3, 0, 1, 2, 3, 1, 2, 3, 1, 0, 2, 3, 0,\n",
       "       1, 3, 2, 3, 3, 0, 3, 0, 3, 2, 2, 2, 1, 3, 0, 3, 3, 2, 3, 1, 1, 3,\n",
       "       0, 0, 0, 2, 3, 2, 1, 0, 0, 1, 3, 3, 2, 2, 3, 2, 0, 0, 0, 1, 3, 1,\n",
       "       3, 3, 2, 0, 1, 3, 3, 1, 0, 1, 3, 2, 0, 3, 3, 2, 2, 2, 3, 1, 3, 0,\n",
       "       0, 3, 1, 0, 2, 2, 1, 2, 1, 2, 1, 3, 3, 0, 1, 1, 2, 1, 2, 1, 2, 3,\n",
       "       1, 0, 3, 2, 0, 2, 3, 2, 0, 3, 2, 1, 3, 0, 2, 2, 2, 2, 0, 3, 3, 1,\n",
       "       2, 1, 3, 0, 3, 2, 1, 3, 1, 2, 1, 0, 0, 1, 2, 1, 3, 0, 3, 3, 3, 0,\n",
       "       1, 0, 0, 2, 2, 0, 0, 0, 2, 0, 2, 2, 1, 1, 3, 0, 0, 3, 3, 1, 2, 1,\n",
       "       2, 0, 0, 0, 3, 1, 1, 1, 3, 2, 3, 2, 1, 1, 2, 2, 2, 0, 3, 0, 3, 2,\n",
       "       3, 2, 1, 1, 3, 3, 1, 3, 1, 0, 3, 1, 1, 2, 3, 3, 3, 2, 3, 2, 1, 2,\n",
       "       0, 0, 0, 2, 0, 2, 3, 2, 3, 2, 2, 3, 0, 3, 1, 3, 2, 2, 1, 1, 2, 2,\n",
       "       3, 0, 2, 0, 2, 0, 0, 3, 2, 1, 3, 1, 0, 1, 3, 1, 0, 1, 3, 1, 3, 1,\n",
       "       3, 0, 3, 1, 2, 1, 1, 3, 1, 0, 1, 2, 0, 0, 0, 3], dtype=int32)"
      ]
     },
     "execution_count": 49,
     "metadata": {},
     "output_type": "execute_result"
    }
   ],
   "source": [
    "X[:,D-1].astype(np.int32)"
   ]
  },
  {
   "cell_type": "code",
   "execution_count": null,
   "metadata": {
    "collapsed": true
   },
   "outputs": [],
   "source": []
  },
  {
   "cell_type": "code",
   "execution_count": null,
   "metadata": {
    "collapsed": true
   },
   "outputs": [],
   "source": []
  },
  {
   "cell_type": "code",
   "execution_count": null,
   "metadata": {},
   "outputs": [],
   "source": [
    "# normalize numerical columns\n",
    "# one-hot categorical columns\n",
    "\n",
    "\n",
    "df = pd.read_csv(dir_path + '/ecommerce_data.csv')\n",
    "\n",
    "# just in case you're curious what's in it\n",
    "# df.head()\n",
    "\n",
    "# easier to work with numpy array\n",
    "data = df.values\n",
    "\n",
    "# shuffle it\n",
    "np.random.shuffle(data)\n",
    "\n",
    "# split features and labels\n",
    "X = data[:,:-1]\n",
    "Y = data[:,-1].astype(np.int32)\n",
    "\n",
    "# one-hot encode the categorical data\n",
    "# create a new matrix X2 with the correct number of columns\n",
    "N, D = X.shape\n",
    "X2 = np.zeros((N, D+3))\n",
    "X2[:,0:(D-1)] = X[:,0:(D-1)] # non-categorical\n",
    "\n",
    "# one-hot\n",
    "for n in range(N):\n",
    "  t = int(X[n,D-1])\n",
    "  X2[n,t+D-1] = 1\n",
    "\n",
    "# method 2\n",
    "# Z = np.zeros((N, 4))\n",
    "# Z[np.arange(N), X[:,D-1].astype(np.int32)] = 1\n",
    "# # assign: X2[:,-4:] = Z\n",
    "# assert(np.abs(X2[:,-4:] - Z).sum() < 1e-10)\n",
    "\n",
    "# assign X2 back to X, since we don't need original anymore\n",
    "X = X2\n",
    "\n",
    "# split train and test\n",
    "Xtrain = X[:-100]\n",
    "Ytrain = Y[:-100]\n",
    "Xtest = X[-100:]\n",
    "Ytest = Y[-100:]\n",
    "\n",
    "# normalize columns 1 and 2\n",
    "for i in (1, 2):\n",
    "m = Xtrain[:,i].mean()\n",
    "s = Xtrain[:,i].std()\n",
    "Xtrain[:,i] = (Xtrain[:,i] - m) / s\n",
    "Xtest[:,i] = (Xtest[:,i] - m) / s\n",
    "\n",
    "return Xtrain, Ytrain, Xtest, Ytest"
   ]
  },
  {
   "cell_type": "code",
   "execution_count": 64,
   "metadata": {},
   "outputs": [
    {
     "data": {
      "text/plain": [
       "array([[0.        , 2.        , 1.2790592 , 0.        , 2.        ],\n",
       "       [1.        , 0.        , 1.45612014, 0.        , 1.        ],\n",
       "       [0.        , 0.        , 0.5078576 , 0.        , 0.        ]])"
      ]
     },
     "execution_count": 64,
     "metadata": {},
     "output_type": "execute_result"
    }
   ],
   "source": [
    "X[:3]"
   ]
  },
  {
   "cell_type": "code",
   "execution_count": 65,
   "metadata": {},
   "outputs": [
    {
     "data": {
      "text/html": [
       "<div>\n",
       "<style>\n",
       "    .dataframe thead tr:only-child th {\n",
       "        text-align: right;\n",
       "    }\n",
       "\n",
       "    .dataframe thead th {\n",
       "        text-align: left;\n",
       "    }\n",
       "\n",
       "    .dataframe tbody tr th {\n",
       "        vertical-align: top;\n",
       "    }\n",
       "</style>\n",
       "<table border=\"1\" class=\"dataframe\">\n",
       "  <thead>\n",
       "    <tr style=\"text-align: right;\">\n",
       "      <th></th>\n",
       "      <th>is_mobile</th>\n",
       "      <th>n_products_viewed</th>\n",
       "      <th>visit_duration</th>\n",
       "      <th>is_returning_visitor</th>\n",
       "      <th>time_of_day</th>\n",
       "      <th>user_action</th>\n",
       "    </tr>\n",
       "  </thead>\n",
       "  <tbody>\n",
       "    <tr>\n",
       "      <th>0</th>\n",
       "      <td>1</td>\n",
       "      <td>0</td>\n",
       "      <td>0.657510</td>\n",
       "      <td>0</td>\n",
       "      <td>3</td>\n",
       "      <td>0</td>\n",
       "    </tr>\n",
       "    <tr>\n",
       "      <th>1</th>\n",
       "      <td>1</td>\n",
       "      <td>1</td>\n",
       "      <td>0.568571</td>\n",
       "      <td>0</td>\n",
       "      <td>2</td>\n",
       "      <td>1</td>\n",
       "    </tr>\n",
       "    <tr>\n",
       "      <th>2</th>\n",
       "      <td>1</td>\n",
       "      <td>0</td>\n",
       "      <td>0.042246</td>\n",
       "      <td>1</td>\n",
       "      <td>1</td>\n",
       "      <td>0</td>\n",
       "    </tr>\n",
       "    <tr>\n",
       "      <th>3</th>\n",
       "      <td>1</td>\n",
       "      <td>1</td>\n",
       "      <td>1.659793</td>\n",
       "      <td>1</td>\n",
       "      <td>1</td>\n",
       "      <td>2</td>\n",
       "    </tr>\n",
       "    <tr>\n",
       "      <th>4</th>\n",
       "      <td>0</td>\n",
       "      <td>1</td>\n",
       "      <td>2.014745</td>\n",
       "      <td>1</td>\n",
       "      <td>1</td>\n",
       "      <td>2</td>\n",
       "    </tr>\n",
       "  </tbody>\n",
       "</table>\n",
       "</div>"
      ],
      "text/plain": [
       "   is_mobile  n_products_viewed  visit_duration  is_returning_visitor  \\\n",
       "0          1                  0        0.657510                     0   \n",
       "1          1                  1        0.568571                     0   \n",
       "2          1                  0        0.042246                     1   \n",
       "3          1                  1        1.659793                     1   \n",
       "4          0                  1        2.014745                     1   \n",
       "\n",
       "   time_of_day  user_action  \n",
       "0            3            0  \n",
       "1            2            1  \n",
       "2            1            0  \n",
       "3            1            2  \n",
       "4            1            2  "
      ]
     },
     "execution_count": 65,
     "metadata": {},
     "output_type": "execute_result"
    }
   ],
   "source": [
    "df.head()"
   ]
  },
  {
   "cell_type": "code",
   "execution_count": null,
   "metadata": {
    "collapsed": true
   },
   "outputs": [],
   "source": []
  }
 ],
 "metadata": {
  "kernelspec": {
   "display_name": "Python 3",
   "language": "python",
   "name": "python3"
  },
  "language_info": {
   "codemirror_mode": {
    "name": "ipython",
    "version": 3
   },
   "file_extension": ".py",
   "mimetype": "text/x-python",
   "name": "python",
   "nbconvert_exporter": "python",
   "pygments_lexer": "ipython3",
   "version": "3.6.2"
  }
 },
 "nbformat": 4,
 "nbformat_minor": 2
}
