{
 "cells": [
  {
   "cell_type": "code",
   "execution_count": 1,
   "metadata": {},
   "outputs": [
    {
     "name": "stdout",
     "output_type": "stream",
     "text": [
      "[0.59274115 0.86942089 0.87643558 0.70635505 0.32271845 0.51551823\n",
      " 0.61978499 0.5022553  0.55097664 0.54407439 0.76363346 0.67193003\n",
      " 0.68838609 0.62899156 0.82274208 0.56549888 0.80825134 0.6982477\n",
      " 0.6523578  0.83574743 0.64750952 0.51739056 0.80961261 0.76753182\n",
      " 0.77500288 0.80830867 0.89313607 0.70498531 0.48895335 0.54174448\n",
      " 0.56552836 0.67679749 0.92015143 0.80126863 0.61495189 0.68433865\n",
      " 0.47170048 0.53398013 0.59110418 0.5001741  0.80508742 0.90754342\n",
      " 0.72564112 0.53724742 0.59398863 0.88503411 0.79539026 0.58988955\n",
      " 0.7097036  0.71424018 0.72351663 0.70201571 0.57923662 0.37937709\n",
      " 0.51313399 0.92352968 0.77139044 0.55884762 0.8763954  0.70547513\n",
      " 0.69417302 0.41334775 0.89822616 0.87595119 0.70427722 0.70404495\n",
      " 0.71837566 0.85976693 0.59242198 0.82011681 0.62504026 0.82592701\n",
      " 0.65206743 0.58686211 0.87800092 0.77315009 0.49901616 0.82094601\n",
      " 0.91119327 0.8358618  0.56261235 0.5114343  0.55638682 0.70402865\n",
      " 0.67624893 0.61977356 0.71494817 0.73373585 0.68520097 0.73231211\n",
      " 0.74062754 0.75483885 0.87444516 0.80199872 0.51389914 0.46604956\n",
      " 0.66506658 0.68327648 0.45316987 0.79177357]\n"
     ]
    }
   ],
   "source": [
    "# demonstrates how to calculate the output of a logistic unit using numpy.\n",
    "# the data X and weight matrix w are randomly generated from a\n",
    "# standard normal distribution.\n",
    "#\n",
    "# the notes for this class can be found at: \n",
    "# https://deeplearningcourses.com/c/data-science-logistic-regression-in-python\n",
    "# https://www.udemy.com/data-science-logistic-regression-in-python\n",
    "\n",
    "# from __future__ import print_function, division\n",
    "# from builtins import range\n",
    "# Note: you may need to update your version of future\n",
    "# sudo pip install -U future\n",
    "\n",
    "\n",
    "import numpy as np\n",
    "\n",
    "N = 100\n",
    "D = 2\n",
    "\n",
    "\n",
    "X = np.random.randn(N,D)\n",
    "# ones = np.array([[1]*N]).T # old\n",
    "ones = np.ones((N, 1))\n",
    "Xb = np.concatenate((ones, X), axis=1)\n",
    "\n",
    "w = np.random.randn(D + 1)\n",
    "\n",
    "z = Xb.dot(w)\n",
    "\n",
    "def sigmoid(z):\n",
    "    return 1/(1 + np.exp(-z))\n",
    "\n",
    "print(sigmoid(z))"
   ]
  },
  {
   "cell_type": "code",
   "execution_count": null,
   "metadata": {
    "collapsed": true
   },
   "outputs": [],
   "source": []
  }
 ],
 "metadata": {
  "kernelspec": {
   "display_name": "Python 3",
   "language": "python",
   "name": "python3"
  },
  "language_info": {
   "codemirror_mode": {
    "name": "ipython",
    "version": 3
   },
   "file_extension": ".py",
   "mimetype": "text/x-python",
   "name": "python",
   "nbconvert_exporter": "python",
   "pygments_lexer": "ipython3",
   "version": "3.6.2"
  }
 },
 "nbformat": 4,
 "nbformat_minor": 2
}
